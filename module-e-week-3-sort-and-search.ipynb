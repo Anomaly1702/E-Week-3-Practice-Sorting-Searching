{
 "cells": [
  {
   "cell_type": "code",
   "execution_count": null,
   "metadata": {},
   "outputs": [],
   "source": [
    "# These imports are for marking only. Please don't rely on them in writing your solution.\n",
    "import otter\n",
    "grader = otter.Notebook()"
   ]
  },
  {
   "cell_type": "markdown",
   "metadata": {
    "tags": []
   },
   "source": [
    "# <mark style=\"background: #2dc26b; color: #ffffff;\" >&nbsp;E&nbsp;</mark>&ensp;Weeks 2 & 3: Sorting and Searching\n",
    "\n",
    "------\n",
    "\n",
    "### Instructions:\n",
    "\n",
    "- Complete 50 points worth of questions to pass the assessment\n",
    "- You can attempt any number of questions and in any order provided you pass at least 50 points.\n",
    "- Each submitted answer **must not** use in-built functions to sort or search. Solutions that do not comply will receive zero marks for that question.\n",
    "- Each submitted answer **must** use the function definition defined by the questions below. You may write and invoke other helper functions to complete your answer so long as the submission includes the stipulated function to call your code.\n",
    "- These questions should be attempted directly in this notebook.\n",
    "- Be sure to check your work before submitting.\n",
    "- Do not remove any provided markings from the answer spaces.\n",
    "- Do not make any changes to this notebook outside of the answer spaces provided.\n",
    "- In testing your own code, remember to check 'edge cases' such as:\n",
    "  - zero length input to be sorted or searched,\n",
    "  - searches the have no match,\n",
    "  - out of bounds indexes to a list, and\n",
    "  - searches that match the first or last element of a list.\n",
    "- These are habits of \"defensive programming\" that make your code more robust.\n",
    "\n",
    "#### Submitting\n",
    "\n",
    "- Reset your outputs before submitting\n",
    "  - Select the `Kernel` menu, then either `Restart & Run Clear Output` or `Restart & Run All`\n",
    "  - Don't forget to save your notebook after this step\n",
    "- Submit your .ipynb file to Gradescope using Git & GitHub\n",
    "- You can submit as many times as needed\n",
    "- When reviewing results, ignore any results listed under \"Public Tests\"  \n",
    "  (There are no \"Public Tests\" in this assignment)\n",
    "\n",
    "For more information, see the assessment page."
   ]
  },
  {
   "cell_type": "markdown",
   "metadata": {},
   "source": [
    "#### Question 01 &nbsp;&nbsp;&nbsp;&nbsp;&nbsp;&nbsp;(5 Points)\n",
    "\n",
    "Write a function defined as:\n",
    "```python\n",
    "def reverse_linear (un_list, match):\n",
    "```\n",
    "that performs a linear search on the list from the last element to the first returning the index of the first matching element or False if not found.\n",
    "\n",
    "For example:\n",
    "```python\n",
    "reverse_linear ([7, 7]) == 1\n",
    "```"
   ]
  },
  {
   "cell_type": "code",
   "execution_count": 150,
   "metadata": {
    "tags": []
   },
   "outputs": [
    {
     "data": {
      "text/plain": [
       "3"
      ]
     },
     "execution_count": 150,
     "metadata": {},
     "output_type": "execute_result"
    }
   ],
   "source": [
    "# Write your solution here\n",
    "def reverse_linear (un_list, match):\n",
    "    for i in range (len(un_list)-1,0,-1):\n",
    "        if match == un_list[i]:\n",
    "            return i\n",
    "    return False\n",
    "\n",
    "reverse_linear ([7,7,5,2], 2)"
   ]
  },
  {
   "cell_type": "markdown",
   "metadata": {},
   "source": [
    "#### Question 02 &nbsp;&nbsp;&nbsp;&nbsp;&nbsp;&nbsp;(5 Points)\n",
    "\n",
    "Write a function defined as:\n",
    "```python\n",
    "def selection_sort_n (un_list, n):\n",
    "```\n",
    "that uses **selection sort** to sort a list in-place ascending from un_list[0] and performs **exactly** ‘n’ swaps. i.e.: the function terminates (returns) when ‘n’ swaps have been performed.\n",
    "\n",
    "For example:\n",
    "```python\n",
    "selection_sort_n ([27, 12, 23, 1, 19, 14], 1) == [14, 12, 23, 1, 19, 27]\n",
    "```"
   ]
  },
  {
   "cell_type": "code",
   "execution_count": 226,
   "metadata": {
    "tags": []
   },
   "outputs": [],
   "source": [
    "def selection_sort_n (un_list, n):\n",
    "    # Write your solution here\n",
    "    count =0\n",
    "    for slot in range(len(un_list) - 1, 0, -1):\n",
    "        max_index = 0\n",
    "        count +=1\n",
    "        for location in range(1, slot + 1):\n",
    "            if un_list[location] > un_list[max_index]:\n",
    "                max_index = location\n",
    "        un_list[slot], un_list[max_index] = un_list[max_index], un_list[slot]\n",
    "        if count>=n:\n",
    "                return un_list\n",
    "        "
   ]
  },
  {
   "cell_type": "markdown",
   "metadata": {
    "tags": []
   },
   "source": [
    "#### Question 03 &nbsp;&nbsp;&nbsp;&nbsp;&nbsp;&nbsp;(5 Points)\n",
    "\n",
    "Write a function defined as:\n",
    "```python\n",
    "def bubble_sort_n (un_list, n):\n",
    "```\n",
    "that applies an in-place **bubble sort** for exactly 'n' iterations. i.e.: the function terminates (returns) after the n'th iteration of the sort.\n",
    "\n",
    "For example:\n",
    "```python\n",
    "bubble_sort_n ([27, 13, 23, 1, 12, 14], 2) == [13, 1, 12, 14, 23, 27]\n",
    "```"
   ]
  },
  {
   "cell_type": "code",
   "execution_count": 229,
   "metadata": {
    "tags": []
   },
   "outputs": [
    {
     "data": {
      "text/plain": [
       "True"
      ]
     },
     "execution_count": 229,
     "metadata": {},
     "output_type": "execute_result"
    }
   ],
   "source": [
    "\n",
    "def bubble_sort_n (un_list, n):\n",
    "    count = 0\n",
    "    for i in range(len(un_list)):\n",
    "        count+=1\n",
    "        for j in range(len(un_list)-i-1):\n",
    "            if un_list[j]>un_list[j+1]:\n",
    "                un_list[j],un_list[j+1] = un_list[j+1],un_list[j]\n",
    "\n",
    "        if count==n:\n",
    "            return un_list\n",
    "            \n",
    "# Write your solution here\n",
    "l = [27, 13, 23, 1, 12, 14]\n",
    "bubble_sort_n (l, 2)\n",
    "l == [13, 1, 12, 14, 23, 27]\n"
   ]
  },
  {
   "cell_type": "markdown",
   "metadata": {},
   "source": [
    "#### Question 04 &nbsp;&nbsp;&nbsp;&nbsp;&nbsp;&nbsp;(5 Points)\n",
    "\n",
    "Write a function defined as:\n",
    "```python\n",
    "def weighted_binary_search (or_list, match):\n",
    "```\n",
    "that performs a **iterative binary search** on an ordered list of ints that returns the (index * value) or False if the element is not found.\n",
    "\n",
    "For example:\n",
    "```python\n",
    "weighted_binary_search ([0, 3, 6], 6) == 12 # because (value) = 6 * (index) 2\n",
    "```"
   ]
  },
  {
   "cell_type": "code",
   "execution_count": 153,
   "metadata": {
    "tags": []
   },
   "outputs": [
    {
     "data": {
      "text/plain": [
       "True"
      ]
     },
     "execution_count": 153,
     "metadata": {},
     "output_type": "execute_result"
    }
   ],
   "source": [
    "# def weighted_binary_search (or_list, match):\n",
    "#     low = 0\n",
    "#     high = len(or_list)-1\n",
    "#     while low <=high:\n",
    "#         mid = (low+high)//2\n",
    "#         if match == or_list[mid]:\n",
    "#             return mid * or_list[mid]\n",
    "#         elif match > or_list[mid]:\n",
    "#             low = mid+1\n",
    "#         else :\n",
    "#             high = mid\n",
    "#     return False\n",
    "# weighted_binary_search ([0, 3, 6], 6) == 12\n",
    "# # Write your solution here\n"
   ]
  },
  {
   "cell_type": "markdown",
   "metadata": {},
   "source": [
    "#### Question 05 &nbsp;&nbsp;&nbsp;&nbsp;&nbsp;&nbsp;(5 Points)\n",
    "\n",
    "Write a function defined as:\n",
    "```python\n",
    "def num_matches_jump_search (or_list, match, jump = 1):\n",
    "```\n",
    "\n",
    "that implements a **jump search** that takes the size of the jump as an input parameter. The search should return the number of items in the ordered list that match the search value (rather than the index) or False if the item was not found.\n",
    "\n",
    "For example:\n",
    "```python\n",
    "num_matches_jump_search ([0, 2, 3, 5, 5, 6, 8, 11, 12, 12, 12], 5, 2) == 2\n",
    "```"
   ]
  },
  {
   "cell_type": "code",
   "execution_count": 230,
   "metadata": {
    "tags": []
   },
   "outputs": [],
   "source": [
    "# Write your solution here\n",
    "def num_matches_jump_search (or_list, match, jump = 1):\n",
    "    # Write your solution here\n",
    "    length = len(or_list)\n",
    "    left, right = 0, 0\n",
    "    while left < length and or_list[left] <= match:\n",
    "        right = min(length -1, left + jump)\n",
    "        if or_list[left] <= match and or_list[right] >= match:\n",
    "            break\n",
    "        left += jump\n",
    "        \n",
    "    if left >= length or or_list[left] > match:\n",
    "        return False\n",
    "    \n",
    "    right = min(length-1, right)\n",
    "    i = left\n",
    "    match_count = 0\n",
    "    while i <= right and or_list[i] <= match:\n",
    "        if or_list[i] == match:\n",
    "            match_count += 1\n",
    "        i += 1\n",
    "        \n",
    "    return match_count    "
   ]
  },
  {
   "cell_type": "markdown",
   "metadata": {},
   "source": [
    "#### Question 06 &nbsp;&nbsp;&nbsp;&nbsp;&nbsp;&nbsp;(10 Points)\n",
    "\n",
    "Write a function defined as:\n",
    "```python\n",
    "def sort_dict_by_value (un_dict):\n",
    "```\n",
    "that performs a sort of any type that sorts a dict by value in-place while retaining identical keys.\n",
    "\n",
    "For example, given a dictionary:\n",
    "```python\n",
    "d = {\n",
    "    1: 101,\n",
    "    2: 2,\n",
    "    8: -1,\n",
    "}\n",
    "```\n",
    "would be sorted as:\n",
    "```python\n",
    "d = {\n",
    "    1: -1,\n",
    "    2: 2,\n",
    "    8: 101,\n",
    "}\n",
    "```"
   ]
  },
  {
   "cell_type": "code",
   "execution_count": 263,
   "metadata": {
    "tags": []
   },
   "outputs": [
    {
     "name": "stdout",
     "output_type": "stream",
     "text": [
      "{1: -1, 2: 2, 8: 101}\n"
     ]
    },
    {
     "data": {
      "text/plain": [
       "True"
      ]
     },
     "execution_count": 263,
     "metadata": {},
     "output_type": "execute_result"
    }
   ],
   "source": [
    "# Write your solution here\n",
    "def sort_dict_by_value (un_dict):\n",
    "    val = []\n",
    "    key = []\n",
    "    for k,v in un_dict.items():\n",
    "        val.append(v)\n",
    "        key.append(k)\n",
    "    def bublesrt(val):\n",
    "        for i in range(len(val)):\n",
    "            for j in range(len(val)-i-1):\n",
    "                if val[j]>val[j+1]:\n",
    "                    val[j],val[j+1] = val[j+1],val[j]\n",
    "    bublesrt(val)\n",
    "    sorted_undict = {}\n",
    "    for i in key:\n",
    "        for j in val:\n",
    "            sorted_undict[i] = j\n",
    "            val.remove(j)\n",
    "            break\n",
    "    un_dict = sorted_undict\n",
    "    return un_dict\n",
    "d = {1: 101, 2: 2, 8: -1}\n",
    "d = sort_dict_by_value (d)\n",
    "print(x)\n",
    "d == {1: -1, 2: 2, 8: 101}"
   ]
  },
  {
   "cell_type": "markdown",
   "metadata": {},
   "source": [
    "#### Question 07 &nbsp;&nbsp;&nbsp;&nbsp;&nbsp;&nbsp;(10 Points)\n",
    "\n",
    "Write a function defined as:\n",
    "```python\n",
    "def median_quicksort_by_string_length (str_list):\n",
    "```   \n",
    "\n",
    "that implements a recursive **quicksort** that sorts a list of capitalised names by length using the median partition scheme. In calculating the pivot index, the first letter of each name is given a weighting according to its index in this list:\n",
    "\n",
    "```python\n",
    "alphabet_list = list(string.ascii_uppercase)\n",
    "```\n",
    "Thus, in a list like:\n",
    "```python\n",
    "[\"Majid\", \"Victoria\", \"Tashreque\", \"Xiefeng\", \"Fu\", \"Biao\", \"Rui\"]\n",
    "```\n",
    "in calculating the pivot, we take the median of 12, 23 & 17 as our first pivot.\n",
    "\n",
    "When sorted in-place, the str_list is:\n",
    "```python\n",
    "['Fu', 'Rui', 'Biao', 'Majid', 'Pranav', 'Xiefeng', 'Victoria', 'Tashreque']\n",
    "```"
   ]
  },
  {
   "cell_type": "code",
   "execution_count": 155,
   "metadata": {
    "tags": []
   },
   "outputs": [
    {
     "name": "stdout",
     "output_type": "stream",
     "text": [
      "old low 12 high 17 median 14\n",
      "new low 1 high 23 median 12\n"
     ]
    }
   ],
   "source": [
    "# import string\n",
    "# alphabet_list = list(string.ascii_uppercase)\n",
    "# str_list = [\"Majid\", \"Victoria\", \"Tashreque\", \"Xiefeng\", \"Fu\", \"Biao\", \"Rui\"]\n",
    "# low = alphabet_list.index(str_list[0][0])\n",
    "# high= alphabet_list.index(str_list[len(str_list)-1][0])\n",
    "# print(f\"old low {low} high {high} median {(low+high)//2}\")\n",
    "# for i in str_list:\n",
    "#     if alphabet_list.index(i[0])<low:\n",
    "#         low = alphabet_list.index(i[0])\n",
    "#     if alphabet_list.index(i[0])>high:\n",
    "#         high = alphabet_list.index(i[0])\n",
    "# print(f\"new low {low} high {high} median {(low+high)//2}\")       \n",
    "\n",
    "# # Write your solution here\n",
    "# # print(alphabet_list)\n",
    "# # def median_quicksort_by_string_length (str_list):\n",
    "# #     first = 0\n",
    "# #     last = len(str_list)-1\n",
    "# #     def hlpr_quick(str_list,first,last):\n",
    "        \n",
    "    \n",
    "    "
   ]
  },
  {
   "cell_type": "markdown",
   "metadata": {},
   "source": [
    "#### Question 08 &nbsp;&nbsp;&nbsp;&nbsp;&nbsp;&nbsp;(10 Points)\n",
    "\n",
    "Write a function defined as:\n",
    "```python\n",
    "def binary_search_tuples_by_second_value (tu_list,  match):\n",
    "```\n",
    "that implements a binary search to find the second element in a list of tuples sorted by the second value in the tuple returning the tuple found at the index of the first match or False when the match is not found.\n",
    "\n",
    "For example:\n",
    "```python\n",
    "# because the tuple (1,2) has '2' in the second position.\n",
    "binary_search_tuples_by_second_value ([(1,2),(1,4),(3,5),(5,7)], 2) == (1, 2)\n",
    "```"
   ]
  },
  {
   "cell_type": "code",
   "execution_count": 156,
   "metadata": {
    "tags": []
   },
   "outputs": [
    {
     "data": {
      "text/plain": [
       "True"
      ]
     },
     "execution_count": 156,
     "metadata": {},
     "output_type": "execute_result"
    }
   ],
   "source": [
    "# # ls = [(1,2),(1,4),(3,5),(5,7)]\n",
    "# # for i in ls:\n",
    "# #     print(i[1])\n",
    "# # Write your solution here\n",
    "# def binary_search_tuples_by_second_value (tu_list,match):\n",
    "#     low = 0\n",
    "#     high = len(tu_list)-1\n",
    "#     def helpr_binsrc(tu_list,match,low,high):\n",
    "#         if low<=high:\n",
    "#             mid = (low+high)//2\n",
    "#             if tu_list[mid][1]==match:\n",
    "#                 return tu_list[mid]\n",
    "#             elif match > tu_list[mid][1]:\n",
    "#                 return helpr_binsrc(tu_list,match,mid+1,high)\n",
    "#             else:\n",
    "#                 return helpr_binsrc(tu_list,match,low,mid)\n",
    "#         else:\n",
    "#             return False\n",
    "#     return helpr_binsrc(tu_list,match,low,high)\n",
    "\n",
    "# binary_search_tuples_by_second_value ([(1,2),(1,4),(3,5),(5,7)], 2) == (1, 2)    "
   ]
  },
  {
   "cell_type": "markdown",
   "metadata": {},
   "source": [
    "#### Question 09 &nbsp;&nbsp;&nbsp;&nbsp;&nbsp;&nbsp;(10 Points)\n",
    "\n",
    "Write a function defined as:\n",
    "```python\n",
    "def sinking_sort_list_by_value (un_list):\n",
    "```\n",
    "that performs a **bubble sort** to sort a list by **descending value** (aka: *sinking sort*) and returns a list of (original_location, value) tuples with the 1st item reflecting the original position of the value in the list.\n",
    "\n",
    "For example, a list like:\n",
    "```python\n",
    "[6, 2, 1, 5, 4]\n",
    "```\n",
    "returns:\n",
    "```python\n",
    "[(0, 6), (3, 5), (4, 4), (1, 2), (2, 1)]\n",
    "```\n",
    "which has (i, v) tuples sorted in descending order v, where i is the index in the original list. "
   ]
  },
  {
   "cell_type": "code",
   "execution_count": 157,
   "metadata": {
    "tags": []
   },
   "outputs": [
    {
     "data": {
      "text/plain": [
       "[(0, 6), (3, 5), (4, 4), (1, 2), (2, 1)]"
      ]
     },
     "execution_count": 157,
     "metadata": {},
     "output_type": "execute_result"
    }
   ],
   "source": [
    "# Write your solution here\n",
    "def sinking_sort_list_by_value (un_list):\n",
    "    new_un_list = []\n",
    "    for i in range(len(un_list)):\n",
    "        x = (i,un_list[i])\n",
    "        new_un_list.append(x)\n",
    "    for i in range(len(new_un_list)):\n",
    "        for j in range(len(new_un_list)-1):\n",
    "            if new_un_list[j][1]<new_un_list[j+1][1]:\n",
    "                new_un_list[j],new_un_list[j+1] = new_un_list[j+1],new_un_list[j]\n",
    "    return new_un_list\n",
    "sinking_sort_list_by_value ([6, 2, 1, 5, 4])       "
   ]
  },
  {
   "cell_type": "markdown",
   "metadata": {},
   "source": [
    "#### Question 10 &nbsp;&nbsp;&nbsp;&nbsp;&nbsp;&nbsp;(10 Points)\n",
    "\n",
    "Write a function defined as: \n",
    "```python\n",
    "def sort_floats_to_list (source):\n",
    "```\n",
    "that performs a sort of any type on a source list of unsorted floats and returns a destination list that will contain the sorted data. An in place sort may not be used and the source list must remain unchanged.\n",
    "\n",
    "For example:\n",
    "```python\n",
    "in_list = [19.8, 1.1, 16.9, 0.1, -7.6]\n",
    "out_list = sort_floats_to_list (in_list)\n",
    "```\n",
    "returns:\n",
    "```python\n",
    "[-7.6, 0.1, 1.1, 16.9, 19.8]\n",
    "```\n",
    "while the source in_list is unchanged."
   ]
  },
  {
   "cell_type": "code",
   "execution_count": 267,
   "metadata": {
    "tags": []
   },
   "outputs": [
    {
     "name": "stdout",
     "output_type": "stream",
     "text": [
      "[-7.6, 0.1, 1.1]\n"
     ]
    }
   ],
   "source": [
    "# Write your solution here\n",
    "def sort_floats_to_list (source):\n",
    "    ols = []\n",
    "    for i in source:\n",
    "        min = i\n",
    "        for j in source:\n",
    "            if j<min:\n",
    "                min = j\n",
    "        ols.append(min)\n",
    "        source.remove(min)\n",
    "    return ols\n",
    "    \n",
    "in_list = [19.8, 1.1, 16.9, 0.1, -7.6]\n",
    "out_list = sort_floats_to_list (in_list)\n",
    "print(out_list)"
   ]
  },
  {
   "cell_type": "markdown",
   "metadata": {},
   "source": [
    "#### Question 11 &nbsp;&nbsp;&nbsp;&nbsp;&nbsp;&nbsp;(10 Points)\n",
    "\n",
    "Write a function defined as: \n",
    "```python\n",
    "def search_float_with_tolerance (or_list, match, tolerance = 0.5):\n",
    "```\n",
    "that will accepts an ordered list of floats and a tolerance that performs a search of any type for a float and returns the first value that matches plus or minus the tolerance or returns False if no value is found within that tolerance such that:\n",
    "```python\n",
    "(match - tolerance) < match < (match + tolerance)\n",
    "````    "
   ]
  },
  {
   "cell_type": "code",
   "execution_count": 264,
   "metadata": {
    "tags": []
   },
   "outputs": [
    {
     "data": {
      "text/plain": [
       "0.1"
      ]
     },
     "execution_count": 264,
     "metadata": {},
     "output_type": "execute_result"
    }
   ],
   "source": [
    "def search_float_with_tolerance (or_list, match, tolerance = 0.5):\n",
    "    for i in range(len(or_list)):\n",
    "        if or_list[i]- tolerance<= match and or_list[i]+ tolerance >=match:\n",
    "            return or_list[i]\n",
    "    return False\n",
    "search_float_with_tolerance ([-7.6, 0.1, 1.1, 16.9, 19.8], 0.0, 0.1)"
   ]
  },
  {
   "cell_type": "markdown",
   "metadata": {},
   "source": [
    "#### Question 12 &nbsp;&nbsp;&nbsp;&nbsp;&nbsp;&nbsp;(10 Points)\n",
    "\n",
    "Write a function defined as:\n",
    "```python\n",
    "def search_num_matches (or_list, match):\n",
    "```\n",
    "that implements a search of any type on ordered data and returns the number of elements that match a value or False if no match is found.\n"
   ]
  },
  {
   "cell_type": "code",
   "execution_count": 214,
   "metadata": {
    "tags": []
   },
   "outputs": [
    {
     "data": {
      "text/plain": [
       "1"
      ]
     },
     "execution_count": 214,
     "metadata": {},
     "output_type": "execute_result"
    }
   ],
   "source": [
    "# Write your solution here\n",
    "def search_num_matches (or_list, match):\n",
    "    low = 0\n",
    "    high = len(or_list)-1\n",
    "    slist = or_list\n",
    "    count=0\n",
    "    def hlpr_num_matches(slist, low, high, match,count):\n",
    "        if high >= low:\n",
    "            mid = (high + low) // 2\n",
    "            if slist[mid] == match:\n",
    "                count+=1\n",
    "                slist.remove(match)\n",
    "                return hlpr_num_matches(slist, low, high, match,count)\n",
    "            elif slist[mid] > match:\n",
    "                return hlpr_num_matches(slist, low, mid - 1, match,count)\n",
    "\n",
    "            elif slist[mid] < match:\n",
    "                return hlpr_num_matches(slist, mid + 1, high, match,count)\n",
    "        else:\n",
    "            if count>0:\n",
    "                return count\n",
    "            return False\n",
    "    return hlpr_num_matches(slist, low, high, match,count)\n",
    "\n",
    "search_num_matches([12, 15, 24, 39, 102, 102, 102, 339, 470], 12)\n",
    "\n"
   ]
  },
  {
   "cell_type": "code",
   "execution_count": null,
   "metadata": {},
   "outputs": [],
   "source": []
  }
 ],
 "metadata": {
  "kernelspec": {
   "display_name": "Python 3",
   "language": "python",
   "name": "python3"
  },
  "language_info": {
   "codemirror_mode": {
    "name": "ipython",
    "version": 3
   },
   "file_extension": ".py",
   "mimetype": "text/x-python",
   "name": "python",
   "nbconvert_exporter": "python",
   "pygments_lexer": "ipython3",
   "version": "3.7.3"
  },
  "otter": {
   "tests": {
    "Question 01": {
     "name": "Question 01",
     "points": 5,
     "suites": [
      {
       "cases": [],
       "scored": true,
       "setup": "",
       "teardown": "",
       "type": "doctest"
      }
     ]
    },
    "Question 02": {
     "name": "Question 02",
     "points": 5,
     "suites": [
      {
       "cases": [],
       "scored": true,
       "setup": "",
       "teardown": "",
       "type": "doctest"
      }
     ]
    },
    "Question 03": {
     "name": "Question 03",
     "points": 5,
     "suites": [
      {
       "cases": [],
       "scored": true,
       "setup": "",
       "teardown": "",
       "type": "doctest"
      }
     ]
    },
    "Question 04": {
     "name": "Question 04",
     "points": 5,
     "suites": [
      {
       "cases": [],
       "scored": true,
       "setup": "",
       "teardown": "",
       "type": "doctest"
      }
     ]
    },
    "Question 05": {
     "name": "Question 05",
     "points": 10,
     "suites": [
      {
       "cases": [],
       "scored": true,
       "setup": "",
       "teardown": "",
       "type": "doctest"
      }
     ]
    },
    "Question 06": {
     "name": "Question 06",
     "points": 10,
     "suites": [
      {
       "cases": [],
       "scored": true,
       "setup": "",
       "teardown": "",
       "type": "doctest"
      }
     ]
    },
    "Question 07": {
     "name": "Question 07",
     "points": 10,
     "suites": [
      {
       "cases": [],
       "scored": true,
       "setup": "",
       "teardown": "",
       "type": "doctest"
      }
     ]
    },
    "Question 08": {
     "name": "Question 08",
     "points": 10,
     "suites": [
      {
       "cases": [],
       "scored": true,
       "setup": "",
       "teardown": "",
       "type": "doctest"
      }
     ]
    },
    "Question 09": {
     "name": "Question 09",
     "points": 10,
     "suites": [
      {
       "cases": [],
       "scored": true,
       "setup": "",
       "teardown": "",
       "type": "doctest"
      }
     ]
    },
    "Question 10": {
     "name": "Question 10",
     "points": 10,
     "suites": [
      {
       "cases": [],
       "scored": true,
       "setup": "",
       "teardown": "",
       "type": "doctest"
      }
     ]
    },
    "Question 11": {
     "name": "Question 11",
     "points": 10,
     "suites": [
      {
       "cases": [],
       "scored": true,
       "setup": "",
       "teardown": "",
       "type": "doctest"
      }
     ]
    },
    "Question 12": {
     "name": "Question 12",
     "points": 10,
     "suites": [
      {
       "cases": [],
       "scored": true,
       "setup": "",
       "teardown": "",
       "type": "doctest"
      }
     ]
    },
    "q1": {
     "name": "q1",
     "points": 1,
     "suites": [
      {
       "cases": [],
       "scored": true,
       "setup": "",
       "teardown": "",
       "type": "doctest"
      }
     ]
    },
    "q10": {
     "name": "q10",
     "points": 4,
     "suites": [
      {
       "cases": [],
       "scored": true,
       "setup": "",
       "teardown": "",
       "type": "doctest"
      }
     ]
    },
    "q11": {
     "name": "q11",
     "points": 6,
     "suites": [
      {
       "cases": [],
       "scored": true,
       "setup": "",
       "teardown": "",
       "type": "doctest"
      }
     ]
    },
    "q12": {
     "name": "q12",
     "points": 6,
     "suites": [
      {
       "cases": [],
       "scored": true,
       "setup": "",
       "teardown": "",
       "type": "doctest"
      }
     ]
    },
    "q13": {
     "name": "q13",
     "points": 6,
     "suites": [
      {
       "cases": [],
       "scored": true,
       "setup": "",
       "teardown": "",
       "type": "doctest"
      }
     ]
    },
    "q14": {
     "name": "q14",
     "points": 6,
     "suites": [
      {
       "cases": [],
       "scored": true,
       "setup": "",
       "teardown": "",
       "type": "doctest"
      }
     ]
    },
    "q15": {
     "name": "q15",
     "points": 6,
     "suites": [
      {
       "cases": [],
       "scored": true,
       "setup": "",
       "teardown": "",
       "type": "doctest"
      }
     ]
    },
    "q16": {
     "name": "q16",
     "points": 6,
     "suites": [
      {
       "cases": [],
       "scored": true,
       "setup": "",
       "teardown": "",
       "type": "doctest"
      }
     ]
    },
    "q17": {
     "name": "q17",
     "points": 8,
     "suites": [
      {
       "cases": [],
       "scored": true,
       "setup": "",
       "teardown": "",
       "type": "doctest"
      }
     ]
    },
    "q18": {
     "name": "q18",
     "points": 8,
     "suites": [
      {
       "cases": [],
       "scored": true,
       "setup": "",
       "teardown": "",
       "type": "doctest"
      }
     ]
    },
    "q19": {
     "name": "q19",
     "points": 12,
     "suites": [
      {
       "cases": [],
       "scored": true,
       "setup": "",
       "teardown": "",
       "type": "doctest"
      }
     ]
    },
    "q2": {
     "name": "q2",
     "points": 1,
     "suites": [
      {
       "cases": [],
       "scored": true,
       "setup": "",
       "teardown": "",
       "type": "doctest"
      }
     ]
    },
    "q20": {
     "name": "q20",
     "points": 12,
     "suites": [
      {
       "cases": [],
       "scored": true,
       "setup": "",
       "teardown": "",
       "type": "doctest"
      }
     ]
    },
    "q3": {
     "name": "q3",
     "points": 1,
     "suites": [
      {
       "cases": [],
       "scored": true,
       "setup": "",
       "teardown": "",
       "type": "doctest"
      }
     ]
    },
    "q4": {
     "name": "q4",
     "points": 1,
     "suites": [
      {
       "cases": [],
       "scored": true,
       "setup": "",
       "teardown": "",
       "type": "doctest"
      }
     ]
    },
    "q5": {
     "name": "q5",
     "points": 2,
     "suites": [
      {
       "cases": [],
       "scored": true,
       "setup": "",
       "teardown": "",
       "type": "doctest"
      }
     ]
    },
    "q6": {
     "name": "q6",
     "points": 2,
     "suites": [
      {
       "cases": [],
       "scored": true,
       "setup": "",
       "teardown": "",
       "type": "doctest"
      }
     ]
    },
    "q7": {
     "name": "q7",
     "points": 4,
     "suites": [
      {
       "cases": [],
       "scored": true,
       "setup": "",
       "teardown": "",
       "type": "doctest"
      }
     ]
    },
    "q8": {
     "name": "q8",
     "points": 4,
     "suites": [
      {
       "cases": [],
       "scored": true,
       "setup": "",
       "teardown": "",
       "type": "doctest"
      }
     ]
    },
    "q9": {
     "name": "q9",
     "points": 4,
     "suites": [
      {
       "cases": [],
       "scored": true,
       "setup": "",
       "teardown": "",
       "type": "doctest"
      }
     ]
    }
   }
  },
  "varInspector": {
   "cols": {
    "lenName": 16,
    "lenType": 16,
    "lenVar": 40
   },
   "kernels_config": {
    "python": {
     "delete_cmd_postfix": "",
     "delete_cmd_prefix": "del ",
     "library": "var_list.py",
     "varRefreshCmd": "print(var_dic_list())"
    },
    "r": {
     "delete_cmd_postfix": ") ",
     "delete_cmd_prefix": "rm(",
     "library": "var_list.r",
     "varRefreshCmd": "cat(var_dic_list()) "
    }
   },
   "types_to_exclude": [
    "module",
    "function",
    "builtin_function_or_method",
    "instance",
    "_Feature"
   ],
   "window_display": false
  }
 },
 "nbformat": 4,
 "nbformat_minor": 4
}
